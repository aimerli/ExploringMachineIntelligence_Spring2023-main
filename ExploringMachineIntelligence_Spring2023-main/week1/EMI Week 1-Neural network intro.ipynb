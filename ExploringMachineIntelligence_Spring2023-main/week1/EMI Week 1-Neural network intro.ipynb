{
 "cells": [
  {
   "cell_type": "markdown",
   "metadata": {
    "id": "s8a_TDA0eOtn"
   },
   "source": [
    "# Week 1 \n",
    "# Intro to working with neural nets in keras\n",
    "\n",
    "\n",
    "Before running this the first time, please make sure you have (1) installed the necessary Python tools and libraries, and (2) activated your enviromment!\n",
    "\n",
    "Please see instructions for this under \"Instructions for Setting Up & Using Python & Jupyter\" in [moodle](https://moodle.arts.ac.uk/course/view.php?id=71166)."
   ]
  },
  {
   "cell_type": "code",
   "execution_count": 96,
   "metadata": {},
   "outputs": [
    {
     "data": {
      "text/plain": [
       "'2.11.0'"
      ]
     },
     "execution_count": 96,
     "metadata": {},
     "output_type": "execute_result"
    }
   ],
   "source": [
    "import tensorflow as tf\n",
    "import keras\n",
    "\n",
    "keras.__version__ #print out current keras version"
   ]
  },
  {
   "cell_type": "code",
   "execution_count": null,
   "metadata": {},
   "outputs": [],
   "source": [
    "tf.__version__ #print out current tensorflow version"
   ]
  },
  {
   "cell_type": "code",
   "execution_count": null,
   "metadata": {},
   "outputs": [],
   "source": [
    "tf.config.experimental.list_physical_devices('GPU') #Do we have access to a GPU?"
   ]
  },
  {
   "cell_type": "code",
   "execution_count": 97,
   "metadata": {
    "id": "iX-_2g9yeOtp"
   },
   "outputs": [],
   "source": [
    "# Now do your imports\n",
    "import numpy as np\n",
    "from keras.models import Sequential #base keras model\n",
    "from keras.layers import Dense, Activation #dense = fully connected layer\n",
    "from tensorflow.keras.optimizers.legacy import SGD #this is just tensorflow.keras.optimizers on earlier versions of tf\n",
    "import h5py # for saving a trained network"
   ]
  },
  {
   "cell_type": "markdown",
   "metadata": {
    "id": "2nnZkKibeOtp"
   },
   "source": [
    "## Part 1: A very, very simple example\n",
    "\n",
    "Can we train a single, 1-input neuron to learn the function output = 5 * input ? "
   ]
  },
  {
   "cell_type": "code",
   "execution_count": 115,
   "metadata": {},
   "outputs": [],
   "source": [
    "import random\n",
    "\n",
    "x_train = np.zeros((10,1))\n",
    "for i in range(np.shape(x_train)[0]):\n",
    "    x_train[i][0] = random.randint(0, 10)\n",
    "\n",
    "y_train = np.array((x_train*5+10).flatten())"
   ]
  },
  {
   "cell_type": "code",
   "execution_count": null,
   "metadata": {
    "id": "4Z9r0N7FeOtp"
   },
   "outputs": [],
   "source": [
    "#Let's make a training dataset with 3 examples\n",
    "#x_train = np.array([[2], [1], [-3], [6], [-1]]) #Input values for each of our 3 training examples\n",
    "#y_train = np.array((x_train*5+2).flatten()) #Output values (aka \"targets\") for each of our 3 training examples"
   ]
  },
  {
   "cell_type": "code",
   "execution_count": 116,
   "metadata": {
    "id": "dn4euxfOeOtq"
   },
   "outputs": [
    {
     "name": "stdout",
     "output_type": "stream",
     "text": [
      "Model: \"sequential_12\"\n",
      "_________________________________________________________________\n",
      " Layer (type)                Output Shape              Param #   \n",
      "=================================================================\n",
      " dense_12 (Dense)            (None, 1)                 2         \n",
      "                                                                 \n",
      "=================================================================\n",
      "Total params: 2\n",
      "Trainable params: 2\n",
      "Non-trainable params: 0\n",
      "_________________________________________________________________\n"
     ]
    }
   ],
   "source": [
    "# Create the network using keras\n",
    "num_neurons = 1\n",
    "model = Sequential() #the basic keras model class\n",
    "model.add(Dense(num_neurons, input_dim = 1)) #add a \"layer\" of 1 neuron, which has 1 input value. This will compute a weighted sum, with no additional activation function.\n",
    "model.summary() #print out info about this network"
   ]
  },
  {
   "cell_type": "code",
   "execution_count": 117,
   "metadata": {
    "id": "BYpjyqL4eOtq"
   },
   "outputs": [],
   "source": [
    "#Set some training parameters\n",
    "#use stochastic gradient descent (pretty standard optimisation method) with a learning rate of 0.1 (why not?)\n",
    "sgd = SGD(learning_rate=0.1) #Note that in previous versions the \"learning_rate\" parameter was titled \"lr\" instead\n",
    "\n",
    "#optimise the mean squared error (i.e., the mean of the squared difference between the model's output and the training target, for each training example)\n",
    "#    This is a fairly standard choice when predicting a real value (as opposed to a binary class of 0 or 1)\n",
    "model.compile(loss='mean_squared_error', optimizer=sgd)"
   ]
  },
  {
   "cell_type": "code",
   "execution_count": 118,
   "metadata": {
    "id": "M9ZhtLB7eOtr"
   },
   "outputs": [
    {
     "name": "stdout",
     "output_type": "stream",
     "text": [
      "1/1 [==============================] - 0s 27ms/step\n"
     ]
    },
    {
     "name": "stderr",
     "output_type": "stream",
     "text": [
      "2023-04-14 11:56:15.133090: I tensorflow/core/grappler/optimizers/custom_graph_optimizer_registry.cc:114] Plugin optimizer for device_type GPU is enabled.\n"
     ]
    },
    {
     "data": {
      "text/plain": [
       "array([[5.3659334],\n",
       "       [0.       ],\n",
       "       [6.260256 ],\n",
       "       [6.260256 ],\n",
       "       [2.6829667],\n",
       "       [2.6829667],\n",
       "       [0.8943223],\n",
       "       [4.4716115],\n",
       "       [2.6829667],\n",
       "       [0.8943223]], dtype=float32)"
      ]
     },
     "execution_count": 118,
     "metadata": {},
     "output_type": "execute_result"
    }
   ],
   "source": [
    "# Run the current model on each of the training examples (i.e., using the inputs to calculate the neuron output)\n",
    "model.predict(x_train) #outputs garbage as it's not trained yet: It's computing output = w1 * input + w0 using random values of w0 and w1"
   ]
  },
  {
   "cell_type": "code",
   "execution_count": 119,
   "metadata": {
    "id": "lCmiA1QzeOtr",
    "scrolled": true
   },
   "outputs": [
    {
     "name": "stdout",
     "output_type": "stream",
     "text": [
      "Epoch 1/100\n",
      "1/1 [==============================] - 0s 116ms/step - loss: 712.5128\n",
      "Epoch 2/100\n",
      "1/1 [==============================] - 0s 7ms/step - loss: 5808.7905\n",
      "Epoch 3/100\n",
      "1/1 [==============================] - 0s 8ms/step - loss: 48692.9258\n",
      "Epoch 4/100\n",
      "1/1 [==============================] - 0s 7ms/step - loss: 409393.3438\n",
      "Epoch 5/100\n",
      "1/1 [==============================] - 0s 7ms/step - loss: 3443119.2500\n",
      "Epoch 6/100\n",
      "1/1 [==============================] - 0s 8ms/step - loss: 28958596.0000\n",
      "Epoch 7/100\n",
      "1/1 [==============================] - 0s 6ms/step - loss: 243559168.0000\n",
      "Epoch 8/100\n",
      "1/1 [==============================] - 0s 6ms/step - loss: 2048479616.0000\n",
      "Epoch 9/100\n",
      "1/1 [==============================] - 0s 6ms/step - loss: 17228953600.0000\n",
      "Epoch 10/100\n",
      "1/1 [==============================] - 0s 6ms/step - loss: 144905977856.0000\n",
      "Epoch 11/100\n",
      "1/1 [==============================] - 0s 7ms/step - loss: 1218746908672.0000\n",
      "Epoch 12/100\n",
      "1/1 [==============================] - 0s 5ms/step - loss: 10250393485312.0000\n",
      "Epoch 13/100\n",
      "1/1 [==============================] - 0s 7ms/step - loss: 86212006117376.0000\n",
      "Epoch 14/100\n",
      "1/1 [==============================] - 0s 6ms/step - loss: 725095102283776.0000\n",
      "Epoch 15/100\n",
      "1/1 [==============================] - 0s 7ms/step - loss: 6098487951228928.0000\n",
      "Epoch 16/100\n",
      "1/1 [==============================] - 0s 5ms/step - loss: 51291985507516416.0000\n",
      "Epoch 17/100\n",
      "1/1 [==============================] - 0s 6ms/step - loss: 431396582613581824.0000\n",
      "Epoch 18/100\n",
      "1/1 [==============================] - 0s 6ms/step - loss: 3628307007800344576.0000\n",
      "Epoch 19/100\n",
      "1/1 [==============================] - 0s 5ms/step - loss: 30516256934643892224.0000\n",
      "Epoch 20/100\n",
      "1/1 [==============================] - 0s 6ms/step - loss: 256660195540402700288.0000\n",
      "Epoch 21/100\n",
      "1/1 [==============================] - ETA: 0s - loss: 2158666780766109696000.0000"
     ]
    },
    {
     "name": "stderr",
     "output_type": "stream",
     "text": [
      "2023-04-14 11:56:17.747986: I tensorflow/core/grappler/optimizers/custom_graph_optimizer_registry.cc:114] Plugin optimizer for device_type GPU is enabled.\n"
     ]
    },
    {
     "name": "stdout",
     "output_type": "stream",
     "text": [
      "1/1 [==============================] - 0s 5ms/step - loss: 2158666780766109696000.0000\n",
      "Epoch 22/100\n",
      "1/1 [==============================] - 0s 6ms/step - loss: 18155693318291199098880.0000\n",
      "Epoch 23/100\n",
      "1/1 [==============================] - 0s 6ms/step - loss: 152700327987918210596864.0000\n",
      "Epoch 24/100\n",
      "1/1 [==============================] - 0s 7ms/step - loss: 1284302530549132147294208.0000\n",
      "Epoch 25/100\n",
      "1/1 [==============================] - 0s 6ms/step - loss: 10801761928914210557788160.0000\n",
      "Epoch 26/100\n",
      "1/1 [==============================] - 0s 5ms/step - loss: 90849356789420114214649856.0000\n",
      "Epoch 27/100\n",
      "1/1 [==============================] - 0s 6ms/step - loss: 764098007755168958671486976.0000\n",
      "Epoch 28/100\n",
      "1/1 [==============================] - 0s 6ms/step - loss: 6426526875542814081962475520.0000\n",
      "Epoch 29/100\n",
      "1/1 [==============================] - 0s 6ms/step - loss: 54050974225273930138563641344.0000\n",
      "Epoch 30/100\n",
      "1/1 [==============================] - 0s 6ms/step - loss: 454601253998676803497765109760.0000\n",
      "Epoch 31/100\n",
      "1/1 [==============================] - 0s 5ms/step - loss: 3823472107546826920101572247552.0000\n",
      "Epoch 32/100\n",
      "1/1 [==============================] - 0s 5ms/step - loss: 32157714526094204328927861669888.0000\n",
      "Epoch 33/100\n",
      "1/1 [==============================] - 0s 7ms/step - loss: 270465894152781321988565677113344.0000\n",
      "Epoch 34/100\n",
      "1/1 [==============================] - 0s 6ms/step - loss: 2274781980434017487007054039089152.0000\n",
      "Epoch 35/100\n",
      "1/1 [==============================] - 0s 6ms/step - loss: 19132292744573312881890295631839232.0000\n",
      "Epoch 36/100\n",
      "1/1 [==============================] - 0s 6ms/step - loss: 160914210410688383449210215450279936.0000\n",
      "Epoch 37/100\n",
      "1/1 [==============================] - 0s 6ms/step - loss: 1353385613273465240608129733265195008.0000\n",
      "Epoch 38/100\n",
      "1/1 [==============================] - 0s 5ms/step - loss: 11382791238062771988746155133778264064.0000\n",
      "Epoch 39/100\n",
      "1/1 [==============================] - 0s 6ms/step - loss: inf\n",
      "Epoch 40/100\n",
      "1/1 [==============================] - 0s 6ms/step - loss: inf\n",
      "Epoch 41/100\n",
      "1/1 [==============================] - 0s 6ms/step - loss: inf\n",
      "Epoch 42/100\n",
      "1/1 [==============================] - 0s 6ms/step - loss: inf\n",
      "Epoch 43/100\n",
      "1/1 [==============================] - 0s 5ms/step - loss: inf\n",
      "Epoch 44/100\n",
      "1/1 [==============================] - 0s 7ms/step - loss: inf\n",
      "Epoch 45/100\n",
      "1/1 [==============================] - 0s 6ms/step - loss: inf\n",
      "Epoch 46/100\n",
      "1/1 [==============================] - 0s 6ms/step - loss: inf\n",
      "Epoch 47/100\n",
      "1/1 [==============================] - 0s 5ms/step - loss: inf\n",
      "Epoch 48/100\n",
      "1/1 [==============================] - 0s 5ms/step - loss: inf\n",
      "Epoch 49/100\n",
      "1/1 [==============================] - 0s 6ms/step - loss: inf\n",
      "Epoch 50/100\n",
      "1/1 [==============================] - 0s 5ms/step - loss: inf\n",
      "Epoch 51/100\n",
      "1/1 [==============================] - 0s 6ms/step - loss: inf\n",
      "Epoch 52/100\n",
      "1/1 [==============================] - 0s 6ms/step - loss: inf\n",
      "Epoch 53/100\n",
      "1/1 [==============================] - 0s 5ms/step - loss: inf\n",
      "Epoch 54/100\n",
      "1/1 [==============================] - 0s 6ms/step - loss: inf\n",
      "Epoch 55/100\n",
      "1/1 [==============================] - 0s 6ms/step - loss: inf\n",
      "Epoch 56/100\n",
      "1/1 [==============================] - 0s 6ms/step - loss: inf\n",
      "Epoch 57/100\n",
      "1/1 [==============================] - 0s 6ms/step - loss: inf\n",
      "Epoch 58/100\n",
      "1/1 [==============================] - 0s 5ms/step - loss: inf\n",
      "Epoch 59/100\n",
      "1/1 [==============================] - 0s 7ms/step - loss: inf\n",
      "Epoch 60/100\n",
      "1/1 [==============================] - 0s 5ms/step - loss: inf\n",
      "Epoch 61/100\n",
      "1/1 [==============================] - 0s 6ms/step - loss: inf\n",
      "Epoch 62/100\n",
      "1/1 [==============================] - 0s 5ms/step - loss: inf\n",
      "Epoch 63/100\n",
      "1/1 [==============================] - 0s 6ms/step - loss: inf\n",
      "Epoch 64/100\n",
      "1/1 [==============================] - 0s 6ms/step - loss: inf\n",
      "Epoch 65/100\n",
      "1/1 [==============================] - 0s 6ms/step - loss: inf\n",
      "Epoch 66/100\n",
      "1/1 [==============================] - 0s 6ms/step - loss: inf\n",
      "Epoch 67/100\n",
      "1/1 [==============================] - 0s 5ms/step - loss: inf\n",
      "Epoch 68/100\n",
      "1/1 [==============================] - 0s 6ms/step - loss: inf\n",
      "Epoch 69/100\n",
      "1/1 [==============================] - 0s 6ms/step - loss: inf\n",
      "Epoch 70/100\n",
      "1/1 [==============================] - 0s 6ms/step - loss: inf\n",
      "Epoch 71/100\n",
      "1/1 [==============================] - 0s 5ms/step - loss: inf\n",
      "Epoch 72/100\n",
      "1/1 [==============================] - 0s 5ms/step - loss: inf\n",
      "Epoch 73/100\n",
      "1/1 [==============================] - 0s 6ms/step - loss: inf\n",
      "Epoch 74/100\n",
      "1/1 [==============================] - 0s 6ms/step - loss: inf\n",
      "Epoch 75/100\n",
      "1/1 [==============================] - 0s 5ms/step - loss: inf\n",
      "Epoch 76/100\n",
      "1/1 [==============================] - 0s 6ms/step - loss: inf\n",
      "Epoch 77/100\n",
      "1/1 [==============================] - 0s 6ms/step - loss: inf\n",
      "Epoch 78/100\n",
      "1/1 [==============================] - 0s 7ms/step - loss: inf\n",
      "Epoch 79/100\n",
      "1/1 [==============================] - 0s 6ms/step - loss: inf\n",
      "Epoch 80/100\n",
      "1/1 [==============================] - 0s 6ms/step - loss: inf\n",
      "Epoch 81/100\n",
      "1/1 [==============================] - 0s 6ms/step - loss: nan\n",
      "Epoch 82/100\n",
      "1/1 [==============================] - 0s 6ms/step - loss: nan\n",
      "Epoch 83/100\n",
      "1/1 [==============================] - 0s 7ms/step - loss: nan\n",
      "Epoch 84/100\n",
      "1/1 [==============================] - 0s 5ms/step - loss: nan\n",
      "Epoch 85/100\n",
      "1/1 [==============================] - 0s 6ms/step - loss: nan\n",
      "Epoch 86/100\n",
      "1/1 [==============================] - 0s 5ms/step - loss: nan\n",
      "Epoch 87/100\n",
      "1/1 [==============================] - 0s 6ms/step - loss: nan\n",
      "Epoch 88/100\n",
      "1/1 [==============================] - 0s 6ms/step - loss: nan\n",
      "Epoch 89/100\n",
      "1/1 [==============================] - 0s 6ms/step - loss: nan\n",
      "Epoch 90/100\n",
      "1/1 [==============================] - 0s 6ms/step - loss: nan\n",
      "Epoch 91/100\n",
      "1/1 [==============================] - 0s 5ms/step - loss: nan\n",
      "Epoch 92/100\n",
      "1/1 [==============================] - 0s 7ms/step - loss: nan\n",
      "Epoch 93/100\n",
      "1/1 [==============================] - 0s 5ms/step - loss: nan\n",
      "Epoch 94/100\n",
      "1/1 [==============================] - 0s 6ms/step - loss: nan\n",
      "Epoch 95/100\n",
      "1/1 [==============================] - 0s 6ms/step - loss: nan\n",
      "Epoch 96/100\n",
      "1/1 [==============================] - 0s 6ms/step - loss: nan\n",
      "Epoch 97/100\n",
      "1/1 [==============================] - 0s 8ms/step - loss: nan\n",
      "Epoch 98/100\n",
      "1/1 [==============================] - 0s 6ms/step - loss: nan\n",
      "Epoch 99/100\n",
      "1/1 [==============================] - 0s 6ms/step - loss: nan\n",
      "Epoch 100/100\n",
      "1/1 [==============================] - 0s 5ms/step - loss: nan\n"
     ]
    },
    {
     "data": {
      "text/plain": [
       "<keras.callbacks.History at 0x17d49d190>"
      ]
     },
     "execution_count": 119,
     "metadata": {},
     "output_type": "execute_result"
    }
   ],
   "source": [
    "#train the model!\n",
    "model.fit(x_train, y_train, epochs=100)"
   ]
  },
  {
   "cell_type": "code",
   "execution_count": null,
   "metadata": {
    "id": "hov7Xe4seOtr"
   },
   "outputs": [],
   "source": [
    "#Now run it:\n",
    "model.predict(x_train) #Does it produce values similar to y_train? It should..."
   ]
  },
  {
   "cell_type": "code",
   "execution_count": null,
   "metadata": {
    "id": "eSRHqntKeOtr",
    "scrolled": true
   },
   "outputs": [],
   "source": [
    "#we can (and should) run it on some new data, too... \n",
    "new_values = np.array([[-10], [0], [5]]) # 3 new \"data points\"\n",
    "\n",
    "#Does it output 5 * x for each new value x ?\n",
    "model.predict(new_values) #be careful to read this using scientific notation ;)"
   ]
  },
  {
   "cell_type": "code",
   "execution_count": null,
   "metadata": {
    "id": "-bjy2e7reOts",
    "scrolled": true
   },
   "outputs": [],
   "source": [
    "#Let's look at the model's weights! We'll see (1) the weight for the input, and (2) the weight for the bias\n",
    "model.get_weights()"
   ]
  },
  {
   "cell_type": "code",
   "execution_count": null,
   "metadata": {
    "id": "U6LlIeXEeOts"
   },
   "outputs": [],
   "source": [
    "# Perhaps try with a new dataset in which our training example output (target) values are np.array([11, 6, -14])?\n",
    "y_train_new = np.array([11, 6, -14])\n",
    "model = Sequential() #the basic model class\n",
    "model.add(Dense(num_neurons, input_dim = 1)) #add a \"layer\" of 1 neuron, which has 1 input value. This will compute a weighted sum, with no additional activation function.\n",
    "model.summary()\n",
    "sgd = SGD(lr=0.1) \n",
    "model.compile(loss='mean_squared_error', optimizer=sgd)\n",
    "model.fit(x_train, y_train_new, epochs=15)"
   ]
  },
  {
   "cell_type": "code",
   "execution_count": null,
   "metadata": {
    "id": "e08iTiACeOts"
   },
   "outputs": [],
   "source": [
    "model.get_weights() #Notice weight is 5 and bias is now 1 (approximately), encoding the function output = input * 5 + 1"
   ]
  }
 ],
 "metadata": {
  "colab": {
   "collapsed_sections": [],
   "name": "NLP Week 4.2-Neural network intro.ipynb",
   "provenance": []
  },
  "kernelspec": {
   "display_name": "Python 3 (ipykernel)",
   "language": "python",
   "name": "python3"
  },
  "language_info": {
   "codemirror_mode": {
    "name": "ipython",
    "version": 3
   },
   "file_extension": ".py",
   "mimetype": "text/x-python",
   "name": "python",
   "nbconvert_exporter": "python",
   "pygments_lexer": "ipython3",
   "version": "3.9.16"
  }
 },
 "nbformat": 4,
 "nbformat_minor": 1
}
